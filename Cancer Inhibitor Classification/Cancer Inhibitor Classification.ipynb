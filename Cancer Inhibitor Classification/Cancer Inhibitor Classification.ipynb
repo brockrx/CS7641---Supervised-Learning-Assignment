{
 "cells": [
  {
   "cell_type": "code",
   "execution_count": 1,
   "metadata": {},
   "outputs": [],
   "source": [
    "import pandas as pd\n",
    "import numpy as np\n",
    "import matplotlib.pyplot as plt\n",
    "from sklearn.model_selection import KFold, train_test_split\n",
    "from sklearn.tree import DecisionTreeClassifier, plot_tree\n",
    "\n",
    "%matplotlib inline "
   ]
  },
  {
   "cell_type": "code",
   "execution_count": 2,
   "metadata": {
    "scrolled": false
   },
   "outputs": [],
   "source": [
    "abbreviations = pd.read_csv('./Data/abbr.csv', header=None)\n",
    "\n",
    "data = None\n",
    "validation = None\n",
    "i = 1\n",
    "for moa in abbreviations[1]:\n",
    "    \n",
    "    moa = moa.strip()\n",
    "    data_file = './Data/' + moa + '_train.csv'\n",
    "    validation_file = './Data/' + moa + '_test.csv'\n",
    "    \n",
    "    new_validation = pd.read_csv(validation_file, header=None).to_numpy()\n",
    "    new_validation[:,0] = new_validation[:,0]*(i)\n",
    "    \n",
    "    new_data = pd.read_csv(data_file, header=None).to_numpy()\n",
    "    new_data[:,0] = new_data[:,0]*i\n",
    "    \n",
    "    if data is not None:\n",
    "        data = np.concatenate((data, new_data), axis=0)\n",
    "    else:\n",
    "        data = new_data\n",
    "        \n",
    "    if validation is not None:\n",
    "        validation = np.concatenate((validation, new_validation), axis=0)\n",
    "    else:\n",
    "        validation = new_validation\n",
    "        \n",
    "    i += 1"
   ]
  },
  {
   "cell_type": "code",
   "execution_count": 3,
   "metadata": {},
   "outputs": [
    {
     "name": "stdout",
     "output_type": "stream",
     "text": [
      "train: (26760, 8193)\n",
      "test: (4440, 8193)\n"
     ]
    }
   ],
   "source": [
    "print('train: ' + str(data.shape))\n",
    "print('test: ' + str(validation.shape))"
   ]
  },
  {
   "cell_type": "markdown",
   "metadata": {},
   "source": [
    "# Dataset Exploration"
   ]
  },
  {
   "cell_type": "code",
   "execution_count": 21,
   "metadata": {},
   "outputs": [],
   "source": [
    "values, counts = np.unique(data[:,0], return_counts=True)"
   ]
  },
  {
   "cell_type": "code",
   "execution_count": 27,
   "metadata": {},
   "outputs": [
    {
     "data": {
      "text/plain": [
       "0           cdk2\n",
       "1     egfr_erbB1\n",
       "2          gsk3b\n",
       "3           hgfr\n",
       "4     map_k_p38a\n",
       "5        tpk_lck\n",
       "6        tpk_src\n",
       "7         vegfr2\n",
       "Name: 1, dtype: object"
      ]
     },
     "execution_count": 27,
     "metadata": {},
     "output_type": "execute_result"
    }
   ],
   "source": [
    "abbreviations[1]"
   ]
  },
  {
   "cell_type": "code",
   "execution_count": 38,
   "metadata": {},
   "outputs": [
    {
     "data": {
      "text/plain": [
       "Text(0, 0.5, 'Frequency')"
      ]
     },
     "execution_count": 38,
     "metadata": {},
     "output_type": "execute_result"
    },
    {
     "data": {
      "image/png": "[encoded data removed]",
      "text/plain": [
       "<Figure size 432x288 with 1 Axes>"
      ]
     },
     "metadata": {
      "needs_background": "light"
     },
     "output_type": "display_data"
    }
   ],
   "source": [
    "classes = ['None'] + [abbreviations[1][i] for i in list(range(8))]\n",
    "plt.bar(classes, counts/data.shape[0])\n",
    "plt.xticks(rotation=90)\n",
    "plt.ylabel('Frequency')"
   ]
  },
  {
   "cell_type": "code",
   "execution_count": 40,
   "metadata": {},
   "outputs": [],
   "source": [
    "# Split data into train and test\n",
    "train_x, test_x, train_y, test_y = train_test_split(data[:,1:], data[:,0], test_size=0.2, stratify=data[:,0])"
   ]
  },
  {
   "cell_type": "code",
   "execution_count": 42,
   "metadata": {},
   "outputs": [
    {
     "data": {
      "text/plain": [
       "Text(0, 0.5, 'Frequency')"
      ]
     },
     "execution_count": 42,
     "metadata": {},
     "output_type": "execute_result"
    },
    {
     "data": {
      "image/png": "[encoded data removed]",
      "text/plain": [
       "<Figure size 432x288 with 1 Axes>"
      ]
     },
     "metadata": {
      "needs_background": "light"
     },
     "output_type": "display_data"
    }
   ],
   "source": [
    "values, counts = np.unique(train_y, return_counts=True)\n",
    "\n",
    "classes = ['None'] + [abbreviations[1][i] for i in list(range(8))]\n",
    "plt.bar(classes, counts/train_x.shape[0])\n",
    "plt.xticks(rotation=90)\n",
    "plt.ylabel('Frequency')"
   ]
  },
  {
   "cell_type": "code",
   "execution_count": 9,
   "metadata": {},
   "outputs": [],
   "source": [
    "# Create a function to save results\n",
    "import json\n",
    "\n",
    "def save_results(results, filename):\n",
    "    with open(filename + '.json', 'w') as fp:\n",
    "        json.dump(results, fp)\n",
    "        \n",
    "        \n",
    "def load_results(file_name):\n",
    "    with open(file_name) as f:\n",
    "        temp_results = json.load(f)\n",
    "    return temp_results"
   ]
  },
  {
   "cell_type": "markdown",
   "metadata": {},
   "source": [
    "## Decision Trees"
   ]
  },
  {
   "cell_type": "code",
   "execution_count": null,
   "metadata": {},
   "outputs": [],
   "source": [
    "### Create a function to fit and evaluate DT at given alphas\n",
    "def evaluate_dtc(train_x, train_y, test_x, test_y, alphas, results):\n",
    "    \n",
    "    tested_alphas = [results[i][0] for i in list(results.keys())]\n",
    "    \n",
    "    i = len(list(results.keys()))\n",
    "    \n",
    "    for alpha in alphas:\n",
    "        \n",
    "        # Skip if alpha has already been tested\n",
    "        if alpha in tested_alphas:\n",
    "            continue\n",
    "        \n",
    "        # Initialize model\n",
    "        model = DecisionTreeClassifier(ccp_alpha = alpha)\n",
    "        \n",
    "        # Fit model\n",
    "        model = model.fit(train_x, train_y)\n",
    "        \n",
    "        # Evaluate performance\n",
    "        train_accuracy = model.score(train_x, train_y)\n",
    "        test_accuracy = model.score(test_x, test_y)\n",
    "        \n",
    "        # Save results\n",
    "        results[i] = (alpha, train_accuracy, test_accuracy)\n",
    "        \n",
    "        # Update i\n",
    "        i += 1\n",
    "        \n",
    "    return results"
   ]
  },
  {
   "cell_type": "code",
   "execution_count": null,
   "metadata": {},
   "outputs": [],
   "source": [
    "### Evaluate model without any pruning\n",
    "# Train model\n",
    "model = DecisionTreeClassifier()\n",
    "model = model.fit(train_x, train_y)\n",
    "\n",
    "# Evaluate performance\n",
    "train_accuracy = model.score(train_x, train_y)\n",
    "test_accuracy = model.score(test_x, test_y)\n",
    "\n",
    "print('Training accuracy: ' + str(train_accuracy))\n",
    "print('Test accuracy: ' + str(test_accuracy))"
   ]
  },
  {
   "cell_type": "code",
   "execution_count": null,
   "metadata": {},
   "outputs": [],
   "source": [
    "# Initialize model\n",
    "model = DecisionTreeClassifier()\n",
    "\n",
    "# Compute path for pruning\n",
    "path = model.cost_complexity_pruning_path(train_x, train_y)\n",
    "ccp_alphas, impurities = path.ccp_alphas, path.impurities"
   ]
  },
  {
   "cell_type": "code",
   "execution_count": null,
   "metadata": {},
   "outputs": [],
   "source": [
    "print('Max alpha: ' + str(np.max(ccp_alphas)))\n",
    "print('Min alpha: ' + str(np.min(ccp_alphas)))"
   ]
  },
  {
   "cell_type": "code",
   "execution_count": null,
   "metadata": {},
   "outputs": [],
   "source": [
    "### Run first search over alpha range\n",
    "alpha_list = [0.01, 0.02, 0.03]\n",
    "results_dtc = {}\n",
    "results_dtc = evaluate_dtc(train_x, train_y, test_x, test_y, alpha_list, results_dtc)"
   ]
  },
  {
   "cell_type": "code",
   "execution_count": null,
   "metadata": {},
   "outputs": [],
   "source": [
    "alpha_list = [results_dtc[i][0] for i in list(results_dtc.keys())]\n",
    "train_acc_list = [results_dtc[i][1] for i in list(results_dtc.keys())]\n",
    "test_acc_list = [results_dtc[i][2] for i in list(results_dtc.keys())]\n",
    "\n",
    "plt.plot(alpha_list, train_acc_list)\n",
    "plt.plot(alpha_list, test_acc_list)"
   ]
  },
  {
   "cell_type": "code",
   "execution_count": null,
   "metadata": {},
   "outputs": [],
   "source": [
    "# Run second search over alpha range\n",
    "alpha_list = [0.002, 0.004, 0.006, 0.008]\n",
    "results_dtc = evaluate_dtc(train_x, train_y, test_x, test_y, alpha_list, results_dtc)"
   ]
  },
  {
   "cell_type": "code",
   "execution_count": null,
   "metadata": {},
   "outputs": [],
   "source": [
    "alpha_list = [results_dtc[i][0] for i in list(results_dtc.keys())]\n",
    "train_acc_list = [results_dtc[i][1] for i in list(results_dtc.keys())]\n",
    "test_acc_list = [results_dtc[i][2] for i in list(results_dtc.keys())]\n",
    "\n",
    "alpha_list, train_acc_list, test_acc_list = zip(*sorted(zip(alpha_list, train_acc_list, test_acc_list)))\n",
    "\n",
    "plt.plot(alpha_list, train_acc_list)\n",
    "plt.plot(alpha_list, test_acc_list)"
   ]
  },
  {
   "cell_type": "code",
   "execution_count": null,
   "metadata": {},
   "outputs": [],
   "source": [
    "# Run second search over alpha range\n",
    "alpha_list = [0.0002, 0.0004, 0.0006, 0.0008]\n",
    "results_dtc = evaluate_dtc(train_x, train_y, test_x, test_y, alpha_list, results_dtc)"
   ]
  },
  {
   "cell_type": "code",
   "execution_count": null,
   "metadata": {},
   "outputs": [],
   "source": [
    "alpha_list = [results_dtc[i][0] for i in list(results_dtc.keys())]\n",
    "train_acc_list = [results_dtc[i][1] for i in list(results_dtc.keys())]\n",
    "test_acc_list = [results_dtc[i][2] for i in list(results_dtc.keys())]\n",
    "\n",
    "alpha_list, train_acc_list, test_acc_list = zip(*sorted(zip(alpha_list, train_acc_list, test_acc_list)))\n",
    "\n",
    "plt.plot(alpha_list, train_acc_list)\n",
    "plt.plot(alpha_list, test_acc_list)"
   ]
  },
  {
   "cell_type": "code",
   "execution_count": null,
   "metadata": {},
   "outputs": [],
   "source": [
    "# Run second search over alpha range\n",
    "alpha_list = [0.00002, 0.00004, 0.00006, 0.00008]\n",
    "results_dtc = evaluate_dtc(train_x, train_y, test_x, test_y, alpha_list, results_dtc)"
   ]
  },
  {
   "cell_type": "code",
   "execution_count": null,
   "metadata": {},
   "outputs": [],
   "source": [
    "alpha_list = [results_dtc[i][0] for i in list(results_dtc.keys())]\n",
    "train_acc_list = [results_dtc[i][1] for i in list(results_dtc.keys())]\n",
    "test_acc_list = [results_dtc[i][2] for i in list(results_dtc.keys())]\n",
    "\n",
    "alpha_list, train_acc_list, test_acc_list = zip(*sorted(zip(alpha_list, train_acc_list, test_acc_list)))\n",
    "\n",
    "plt.plot(alpha_list, train_acc_list)\n",
    "plt.plot(alpha_list, test_acc_list)\n",
    "plt.xlim((0,0.001))"
   ]
  },
  {
   "cell_type": "code",
   "execution_count": null,
   "metadata": {},
   "outputs": [],
   "source": [
    "max_index = np.argmax(test_acc_list)\n",
    "\n",
    "print('Optimized alpha: ' + str(alpha_list[max_index]))\n",
    "print('Training accuracy: ' + str(round(train_acc_list[max_index]*100, 2)) + '%')\n",
    "print('Test accuracy: ' + str(round(test_acc_list[max_index]*100, 2)) + '%')"
   ]
  },
  {
   "cell_type": "code",
   "execution_count": null,
   "metadata": {},
   "outputs": [],
   "source": [
    "# Save decision tree results\n",
    "save_results(results_dtc, 'results_dtc')"
   ]
  },
  {
   "cell_type": "code",
   "execution_count": 43,
   "metadata": {},
   "outputs": [],
   "source": [
    "results_dtc = load_results('results_dtc.json')"
   ]
  },
  {
   "cell_type": "code",
   "execution_count": 46,
   "metadata": {},
   "outputs": [
    {
     "data": {
      "image/png": "[encoded data removed]",
      "text/plain": [
       "<Figure size 432x288 with 1 Axes>"
      ]
     },
     "metadata": {
      "needs_background": "light"
     },
     "output_type": "display_data"
    }
   ],
   "source": [
    "alpha_list = [results_dtc[i][0] for i in list(results_dtc.keys())]\n",
    "train_acc_list = [results_dtc[i][1]*100 for i in list(results_dtc.keys())]\n",
    "test_acc_list = [results_dtc[i][2]*100 for i in list(results_dtc.keys())]\n",
    "\n",
    "alpha_list, train_acc_list, test_acc_list = zip(*sorted(zip(alpha_list, train_acc_list, test_acc_list)))\n",
    "\n",
    "plt.scatter(alpha_list, train_acc_list, label='Training set')\n",
    "plt.scatter(alpha_list, test_acc_list, label='Test set')\n",
    "plt.legend(loc='lower left')\n",
    "plt.xlabel('Cost Complexity Pruning Threshold')\n",
    "plt.ylabel('Accuracy (%)')\n",
    "plt.xscale('log')"
   ]
  },
  {
   "cell_type": "code",
   "execution_count": 47,
   "metadata": {},
   "outputs": [
    {
     "name": "stdout",
     "output_type": "stream",
     "text": [
      "Optimized alpha: 6e-05\n",
      "Training accuracy: 86.43%\n",
      "Test accuracy: 72.98%\n"
     ]
    }
   ],
   "source": [
    "max_index = np.argmax(test_acc_list)\n",
    "\n",
    "print('Optimized alpha: ' + str(alpha_list[max_index]))\n",
    "print('Training accuracy: ' + str(round(train_acc_list[max_index], 2)) + '%')\n",
    "print('Test accuracy: ' + str(round(test_acc_list[max_index], 2)) + '%')"
   ]
  },
  {
   "cell_type": "markdown",
   "metadata": {},
   "source": [
    "# Neural Network"
   ]
  },
  {
   "cell_type": "code",
   "execution_count": null,
   "metadata": {},
   "outputs": [],
   "source": [
    "from sklearn.neural_network import MLPClassifier"
   ]
  },
  {
   "cell_type": "code",
   "execution_count": null,
   "metadata": {},
   "outputs": [],
   "source": [
    "### Create a function to fit and evaluate DT at given alphas\n",
    "def evaluate_nn(train_x, train_y, test_x, test_y, hyperparameter_dic, resutls_nn):\n",
    "    \n",
    "    layers = hyperparameter_dic['layers']\n",
    "    sizes = hyperparameter_dic['sizes']\n",
    "    activations = hyperparameter_dic['activations']\n",
    "    alphas = hyperparameter_dic['alphas']\n",
    "    \n",
    "    number_models = len(layers)*len(sizes)*len(activations)*len(alphas)\n",
    "    i = len(list(resutls_nn.keys()))\n",
    "    \n",
    "    for number_layers in layers:\n",
    "        for layer_size in sizes:\n",
    "            for activation in activations:\n",
    "                for alpha in alphas:\n",
    "                    \n",
    "                    for r_i in list(results_nn.keys()):\n",
    "                        if alpha == results_nn[r_i][0]:\n",
    "                            if layer_size == results_nn[r_i][4]:\n",
    "                                if number_layers == results_nn[r_i][3]:\n",
    "                                    if activation == results_nn[r_i][5]:\n",
    "                                        continue\n",
    "                        \n",
    "                    print('Training model {} of {}...'.format(i+1, number_models))\n",
    "                    \n",
    "                    # Initialize model\n",
    "                    model = MLPClassifier(\n",
    "                        hidden_layer_sizes = [layer_size]*number_layers,\n",
    "                        activation = activation,\n",
    "                        alpha = alpha,\n",
    "                        max_iter = 10000,\n",
    "                        learning_rate = 'invscaling',\n",
    "                        verbose = True\n",
    "                    )\n",
    "                                \n",
    "                    # Fit model\n",
    "                    model.fit(train_x, train_y)\n",
    "                                \n",
    "                    # Evaluate performance\n",
    "                    train_accuracy = model.score(train_x, train_y)\n",
    "                    test_accuracy = model.score(test_x, test_y)\n",
    "\n",
    "                    # Save resutls_nn\n",
    "                    resutls_nn[i] = (alpha, train_accuracy, test_accuracy, number_layers, layer_size, activation)\n",
    "\n",
    "                    # Update i\n",
    "                    i += 1\n",
    "\n",
    "    return resutls_nn"
   ]
  },
  {
   "cell_type": "code",
   "execution_count": null,
   "metadata": {
    "scrolled": true
   },
   "outputs": [],
   "source": [
    "layers = [1, 2]\n",
    "sizes = [8, 16]\n",
    "activations = ['logistic', 'tanh']\n",
    "alphas = [0.0001, 0.001]\n",
    "\n",
    "hyperparameters_dic = {\n",
    "    'layers': layers,\n",
    "    'sizes': sizes,\n",
    "    'activations': activations,\n",
    "    'alphas': alphas\n",
    "}\n",
    "\n",
    "results_nn = {}\n",
    "\n",
    "results_nn = evaluate_nn(train_x, train_y, test_x, test_y, hyperparameters_dic, results_nn)"
   ]
  },
  {
   "cell_type": "code",
   "execution_count": null,
   "metadata": {},
   "outputs": [],
   "source": [
    "train_acc_list = [results_nn[i][1] for i in list(results_nn.keys())]\n",
    "test_acc_list = [results_nn[i][2] for i in list(results_nn.keys())]\n",
    "model_list = [results_nn[i][3] for i in list(results_nn.keys())]\n",
    "\n",
    "max_index = np.argmax(test_acc_list)\n",
    "print('Test accuracy: ' + str(test_acc_list[max_index]))\n",
    "print('Train accuracy: ' + str(train_acc_list[max_index]))"
   ]
  },
  {
   "cell_type": "code",
   "execution_count": null,
   "metadata": {},
   "outputs": [],
   "source": [
    "# Save current model progress\n",
    "save_results(results_nn, 'results_nn')"
   ]
  },
  {
   "cell_type": "code",
   "execution_count": null,
   "metadata": {
    "scrolled": true
   },
   "outputs": [],
   "source": [
    "layers = [1, 2]\n",
    "sizes = [32, 64, 128]\n",
    "activations = ['logistic', 'tanh']\n",
    "alphas = [0.0001, 0.001, 0.01]\n",
    "\n",
    "hyperparameters_dic = {\n",
    "    'layers': layers,\n",
    "    'sizes': sizes,\n",
    "    'activations': activations,\n",
    "    'alphas': alphas\n",
    "}\n",
    "\n",
    "results_nn = {}\n",
    "\n",
    "results_nn = evaluate_nn(train_x, train_y, test_x, test_y, hyperparameters_dic, results_nn)"
   ]
  },
  {
   "cell_type": "code",
   "execution_count": null,
   "metadata": {},
   "outputs": [],
   "source": [
    "train_acc_list = [results_nn[i][1] for i in list(results_nn.keys())]\n",
    "test_acc_list = [results_nn[i][2] for i in list(results_nn.keys())]\n",
    "model_list = [results_nn[i][3] for i in list(results_nn.keys())]\n",
    "\n",
    "max_index = np.argmax(test_acc_list)\n",
    "print('Test accuracy: ' + str(test_acc_list[max_index]))\n",
    "print('Train accuracy: ' + str(train_acc_list[max_index]))"
   ]
  },
  {
   "cell_type": "code",
   "execution_count": null,
   "metadata": {},
   "outputs": [],
   "source": [
    "# Save current model progress\n",
    "save_results(results_nn, 'results_nn')"
   ]
  },
  {
   "cell_type": "code",
   "execution_count": 48,
   "metadata": {},
   "outputs": [],
   "source": [
    "results_nn = load_results('results_nn.json')"
   ]
  },
  {
   "cell_type": "code",
   "execution_count": 49,
   "metadata": {},
   "outputs": [],
   "source": [
    "alpha_list = [results_nn[i][0] for i in list(results_nn.keys())]\n",
    "train_acc_list = [results_nn[i][1]*100 for i in list(results_nn.keys())]\n",
    "test_acc_list = [results_nn[i][2]*100 for i in list(results_nn.keys())]\n",
    "number_layers_list = [results_nn[i][3] for i in list(results_nn.keys())]\n",
    "layer_size_list = [results_nn[i][4] for i in list(results_nn.keys())]\n",
    "activation_list = [results_nn[i][5] for i in list(results_nn.keys())]\n",
    "\n",
    "alpha_list, train_acc_list, test_acc_list = zip(*sorted(zip(alpha_list, train_acc_list, test_acc_list)))"
   ]
  },
  {
   "cell_type": "code",
   "execution_count": 50,
   "metadata": {},
   "outputs": [
    {
     "data": {
      "image/png": "[encoded data removed]",
      "text/plain": [
       "<Figure size 432x288 with 1 Axes>"
      ]
     },
     "metadata": {
      "needs_background": "light"
     },
     "output_type": "display_data"
    }
   ],
   "source": [
    "plt.scatter(alpha_list, train_acc_list, label='Training set')\n",
    "plt.scatter(alpha_list, test_acc_list, label='Test set')\n",
    "plt.legend(loc='lower left')\n",
    "plt.xlabel('L2 Regularization Penalty')\n",
    "plt.ylabel('Accuracy (%)')\n",
    "plt.xscale('log')"
   ]
  },
  {
   "cell_type": "code",
   "execution_count": 51,
   "metadata": {},
   "outputs": [
    {
     "data": {
      "text/plain": [
       "Text(0, 0.5, 'Accuracy (%)')"
      ]
     },
     "execution_count": 51,
     "metadata": {},
     "output_type": "execute_result"
    },
    {
     "data": {
      "image/png": "[encoded data removed]",
      "text/plain": [
       "<Figure size 432x288 with 1 Axes>"
      ]
     },
     "metadata": {
      "needs_background": "light"
     },
     "output_type": "display_data"
    }
   ],
   "source": [
    "plt.scatter(number_layers_list, train_acc_list, label='Training set')\n",
    "plt.scatter(number_layers_list, test_acc_list, label='Test set')\n",
    "plt.legend(loc='lower left')\n",
    "plt.xlabel('Number of Layers')\n",
    "plt.ylabel('Accuracy (%)')"
   ]
  },
  {
   "cell_type": "code",
   "execution_count": 52,
   "metadata": {},
   "outputs": [
    {
     "data": {
      "text/plain": [
       "Text(0, 0.5, 'Accuracy (%)')"
      ]
     },
     "execution_count": 52,
     "metadata": {},
     "output_type": "execute_result"
    },
    {
     "data": {
      "image/png": "[encoded data removed]",
      "text/plain": [
       "<Figure size 432x288 with 1 Axes>"
      ]
     },
     "metadata": {
      "needs_background": "light"
     },
     "output_type": "display_data"
    }
   ],
   "source": [
    "plt.scatter(layer_size_list, train_acc_list, label='Training set')\n",
    "plt.scatter(layer_size_list, test_acc_list, label='Test set')\n",
    "plt.legend(loc='lower left')\n",
    "plt.xlabel('Layer size')\n",
    "plt.ylabel('Accuracy (%)')"
   ]
  },
  {
   "cell_type": "code",
   "execution_count": 53,
   "metadata": {},
   "outputs": [
    {
     "data": {
      "text/plain": [
       "Text(0, 0.5, 'Accuracy (%)')"
      ]
     },
     "execution_count": 53,
     "metadata": {},
     "output_type": "execute_result"
    },
    {
     "data": {
      "image/png": "[encoded data removed]",
      "text/plain": [
       "<Figure size 432x288 with 1 Axes>"
      ]
     },
     "metadata": {
      "needs_background": "light"
     },
     "output_type": "display_data"
    }
   ],
   "source": [
    "plt.scatter(activation_list, train_acc_list, label='Training set')\n",
    "plt.scatter(activation_list, test_acc_list, label='Test set')\n",
    "plt.legend(loc='lower left')\n",
    "plt.xlabel('Activation Type')\n",
    "plt.ylabel('Accuracy (%)')"
   ]
  },
  {
   "cell_type": "code",
   "execution_count": 54,
   "metadata": {},
   "outputs": [
    {
     "name": "stdout",
     "output_type": "stream",
     "text": [
      "Alpha: 0.01\n",
      "Number of Layers: 2\n",
      "Layer Size: 128\n",
      "Activation type: logistic\n",
      "Training accuracy: 88.45%\n",
      "Test accuracy: 75.11%\n"
     ]
    }
   ],
   "source": [
    "max_index = np.argmax(test_acc_list)\n",
    "\n",
    "print('Alpha: ' + str(alpha_list[max_index]))\n",
    "print('Number of Layers: ' + str(number_layers_list[max_index]))\n",
    "print('Layer Size: ' + str(layer_size_list[max_index]))\n",
    "print('Activation type: ' + str(activation_list[max_index]))\n",
    "print('Training accuracy: ' + str(round(train_acc_list[max_index], 2)) + '%')\n",
    "print('Test accuracy: ' + str(round(test_acc_list[max_index], 2)) + '%')"
   ]
  },
  {
   "cell_type": "markdown",
   "metadata": {},
   "source": [
    "# K-NN"
   ]
  },
  {
   "cell_type": "code",
   "execution_count": null,
   "metadata": {},
   "outputs": [],
   "source": [
    "from sklearn.neighbors import KNeighborsClassifier"
   ]
  },
  {
   "cell_type": "code",
   "execution_count": null,
   "metadata": {},
   "outputs": [],
   "source": [
    "def evaluate_knn(train_x, train_y, test_x, test_y, hyperparameters_dic, results_knn):\n",
    "    \n",
    "    neighbors_list = hyperparameters_dic['neighbors_list']\n",
    "    weights_list = hyperparameters_dic['weights_list']\n",
    "    \n",
    "    i = len(list(results_knn.keys()))\n",
    "    \n",
    "    n_models = len(neighbors_list)*len(weights_list)\n",
    "    \n",
    "    for neighbors in neighbors_list:\n",
    "        for weights in weights_list:\n",
    "            \n",
    "            print('Training model {} of {}...'.format(i+1, n_models))\n",
    "            \n",
    "            for r_i in list(results_knn.keys()):\n",
    "                if neighbors == results_knn[r_i][0]:\n",
    "                    if weights == results_knn[r_i][1]:\n",
    "                        continue\n",
    "            \n",
    "            results_knn[i] = []\n",
    "            \n",
    "            model = KNeighborsClassifier(n_neighbors=neighbors, weights=weights)\n",
    "            \n",
    "            model.fit(train_x, train_y)\n",
    "            \n",
    "            train_accuracy = model.score(train_x, train_y)\n",
    "            test_accuracy = model.score(test_x, test_y)\n",
    "            \n",
    "            results_knn[i].append(neighbors)\n",
    "            results_knn[i].append(weights)\n",
    "            results_knn[i].append(train_accuracy)\n",
    "            results_knn[i].append(test_accuracy)\n",
    "            \n",
    "            i += 1\n",
    "            \n",
    "    return results_knn"
   ]
  },
  {
   "cell_type": "code",
   "execution_count": null,
   "metadata": {},
   "outputs": [],
   "source": [
    "neighbors_list = [3, 5, 7]\n",
    "weights_list = ['uniform', 'distance']\n",
    "\n",
    "hyperparameter_dic = {'neighbors_list': neighbors_list, 'weights_list': weights_list}\n",
    "\n",
    "results_knn = evaluate_knn(train_x, train_y, test_x, test_y, hyperparameter_dic, {})"
   ]
  },
  {
   "cell_type": "code",
   "execution_count": null,
   "metadata": {},
   "outputs": [],
   "source": [
    "for key in results_knn.keys():\n",
    "    print('Number nerighbors: ' + str(results_knn[key][0]))\n",
    "    print('Weighting: ' + str(results_knn[key][1]))\n",
    "    print('Training accuracy: ' + str(results_knn[key][2]))\n",
    "    print('Test accuracy: ' + str(results_knn[key][3]))\n",
    "    print()"
   ]
  },
  {
   "cell_type": "code",
   "execution_count": null,
   "metadata": {},
   "outputs": [],
   "source": [
    "save_results(results_knn, 'results_knn')"
   ]
  },
  {
   "cell_type": "code",
   "execution_count": 63,
   "metadata": {},
   "outputs": [],
   "source": [
    "results_knn = load_results('results_knn.json')"
   ]
  },
  {
   "cell_type": "code",
   "execution_count": 64,
   "metadata": {},
   "outputs": [],
   "source": [
    "neighbors_list = [results_knn[i][0] for i in list(results_knn.keys())]\n",
    "weights_list = [results_knn[i][1] for i in list(results_knn.keys())]\n",
    "train_acc_list = [results_knn[i][2]*100 for i in list(results_knn.keys())]\n",
    "test_acc_list = [results_knn[i][3]*100 for i in list(results_knn.keys())]\n",
    "\n",
    "neighboars_list, train_acc_list, test_acc_list, weights_list = zip(*sorted(zip(alpha_list, train_acc_list, test_acc_list, weights_list)))"
   ]
  },
  {
   "cell_type": "code",
   "execution_count": 68,
   "metadata": {},
   "outputs": [
    {
     "data": {
      "text/plain": [
       "Text(0, 0.5, 'Accuracy (%)')"
      ]
     },
     "execution_count": 68,
     "metadata": {},
     "output_type": "execute_result"
    },
    {
     "data": {
      "image/png": "[encoded data removed]",
      "text/plain": [
       "<Figure size 432x288 with 1 Axes>"
      ]
     },
     "metadata": {
      "needs_background": "light"
     },
     "output_type": "display_data"
    }
   ],
   "source": [
    "plt.scatter(neighbors_list, train_acc_list, label='Training set')\n",
    "plt.scatter(neighbors_list, test_acc_list, label='Test set')\n",
    "plt.legend(loc='center right')\n",
    "plt.xlabel('Number of Neighbors')\n",
    "plt.ylabel('Accuracy (%)')"
   ]
  },
  {
   "cell_type": "code",
   "execution_count": 69,
   "metadata": {},
   "outputs": [
    {
     "data": {
      "text/plain": [
       "Text(0, 0.5, 'Accuracy (%)')"
      ]
     },
     "execution_count": 69,
     "metadata": {},
     "output_type": "execute_result"
    },
    {
     "data": {
      "image/png": "[encoded data removed]",
      "text/plain": [
       "<Figure size 432x288 with 1 Axes>"
      ]
     },
     "metadata": {
      "needs_background": "light"
     },
     "output_type": "display_data"
    }
   ],
   "source": [
    "plt.scatter(weights_list, train_acc_list, label='Training set')\n",
    "plt.scatter(weights_list, test_acc_list, label='Test set')\n",
    "plt.legend(loc='center right')\n",
    "plt.xlabel('Weighting Method')\n",
    "plt.ylabel('Accuracy (%)')"
   ]
  },
  {
   "cell_type": "code",
   "execution_count": 71,
   "metadata": {},
   "outputs": [
    {
     "name": "stdout",
     "output_type": "stream",
     "text": [
      "Number of Neighbors: 3\n",
      "Weighting Methond: uniform\n",
      "Training accuracy: 81.48%\n",
      "Test accuracy: 75.02%\n"
     ]
    }
   ],
   "source": [
    "max_index = np.argmax(test_acc_list)\n",
    "\n",
    "print('Number of Neighbors: ' + str(neighbors_list[max_index]))\n",
    "print('Weighting Methond: ' + str(weights_list[max_index]))\n",
    "print('Training accuracy: ' + str(round(train_acc_list[max_index], 2)) + '%')\n",
    "print('Test accuracy: ' + str(round(test_acc_list[max_index], 2)) + '%')"
   ]
  },
  {
   "cell_type": "markdown",
   "metadata": {},
   "source": [
    "# Boosting"
   ]
  },
  {
   "cell_type": "code",
   "execution_count": null,
   "metadata": {},
   "outputs": [],
   "source": [
    "from sklearn.ensemble import GradientBoostingClassifier"
   ]
  },
  {
   "cell_type": "code",
   "execution_count": null,
   "metadata": {},
   "outputs": [],
   "source": [
    "def evaluate_gbc(train_x, train_y, test_x, test_y, hyperparameters_dic, results_gbc):\n",
    "    \n",
    "    alphas = hyperparameters_dic['alphas']\n",
    "    \n",
    "    i = len(list(results_gbc.keys()))\n",
    "    \n",
    "    n_models = len(alphas)\n",
    "    \n",
    "    for alpha in alphas:\n",
    "            \n",
    "        print('Training model {} of {}...'.format(i+1, n_models))\n",
    "\n",
    "        if alpha in [results_gbc[i][0] for i in list(results_gbc.keys())]:\n",
    "            continue\n",
    "            \n",
    "        results_gbc[i] = []\n",
    "\n",
    "        model = GradientBoostingClassifier(ccp_alpha = alpha)\n",
    "\n",
    "        model.fit(train_x, train_y)\n",
    "\n",
    "        train_accuracy = model.score(train_x, train_y)\n",
    "        test_accuracy = model.score(test_x, test_y)\n",
    "\n",
    "        results_gbc[i].append(alpha)\n",
    "        results_gbc[i].append(train_accuracy)\n",
    "        results_gbc[i].append(test_accuracy)\n",
    "\n",
    "        i += 1\n",
    "            \n",
    "    return results_gbc"
   ]
  },
  {
   "cell_type": "code",
   "execution_count": null,
   "metadata": {},
   "outputs": [],
   "source": [
    "alphas = [0.01, 0.001, 0.0001, 0]\n",
    "\n",
    "hyperparameters_dic = {'alphas': alphas}\n",
    "\n",
    "results_gbc = evaluate_gbc(train_x, train_y, test_x, test_y, hyperparameters_dic, {})"
   ]
  },
  {
   "cell_type": "code",
   "execution_count": null,
   "metadata": {},
   "outputs": [],
   "source": [
    "for key in results_gbc.keys():\n",
    "    print('Alphas: ' + str(results_gbc[key][0]))\n",
    "    print('Training accuracy: ' + str(results_gbc[key][1]))\n",
    "    print('Test accuracy: ' + str(results_gbc[key][2]))\n",
    "    print()"
   ]
  },
  {
   "cell_type": "code",
   "execution_count": null,
   "metadata": {},
   "outputs": [],
   "source": [
    "save_results(results_gbc, 'results_gbc')"
   ]
  },
  {
   "cell_type": "code",
   "execution_count": 74,
   "metadata": {},
   "outputs": [],
   "source": [
    "results_gbc = load_results('results_gbc.json')"
   ]
  },
  {
   "cell_type": "code",
   "execution_count": 89,
   "metadata": {},
   "outputs": [],
   "source": [
    "alpha_list = [results_gbc[i][0] for i in list(results_gbc.keys())]\n",
    "train_acc_list = [results_gbc[i][1]*100 for i in list(results_gbc.keys())]\n",
    "test_acc_list = [results_gbc[i][2]*100 for i in list(results_gbc.keys())]"
   ]
  },
  {
   "cell_type": "code",
   "execution_count": 90,
   "metadata": {},
   "outputs": [
    {
     "data": {
      "text/plain": [
       "Text(0, 0.5, 'Accuracy (%)')"
      ]
     },
     "execution_count": 90,
     "metadata": {},
     "output_type": "execute_result"
    },
    {
     "data": {
      "image/png": "[encoded data removed]",
      "text/plain": [
       "<Figure size 432x288 with 1 Axes>"
      ]
     },
     "metadata": {
      "needs_background": "light"
     },
     "output_type": "display_data"
    }
   ],
   "source": [
    "alpha_list = [results_gbc[i][0] for i in list(results_gbc.keys())]\n",
    "train_acc_list = [results_gbc[i][1]*100 for i in list(results_gbc.keys())]\n",
    "test_acc_list = [results_gbc[i][2]*100 for i in list(results_gbc.keys())]\n",
    "\n",
    "alpha_list, train_acc_list, test_acc_list = zip(*sorted(zip(alpha_list, train_acc_list, test_acc_list)))\n",
    "\n",
    "plt.scatter(alpha_list, train_acc_list, label='Training set')\n",
    "plt.scatter(alpha_list, test_acc_list, label='Test set')\n",
    "plt.legend(loc='upper right')\n",
    "plt.xlabel('Cost Complexity Pruning Threshold')\n",
    "plt.ylabel('Accuracy (%)')\n",
    "#plt.xscale('log')"
   ]
  },
  {
   "cell_type": "code",
   "execution_count": 92,
   "metadata": {},
   "outputs": [
    {
     "name": "stdout",
     "output_type": "stream",
     "text": [
      "Alpha: 0\n",
      "Training accuracy: 78.56%\n",
      "Test accuracy: 73.67%\n"
     ]
    }
   ],
   "source": [
    "max_index = np.argmax(test_acc_list)\n",
    "\n",
    "print('Alpha: ' + str(alpha_list[max_index]))\n",
    "print('Training accuracy: ' + str(round(train_acc_list[max_index], 2)) + '%')\n",
    "print('Test accuracy: ' + str(round(test_acc_list[max_index], 2)) + '%')"
   ]
  },
  {
   "cell_type": "markdown",
   "metadata": {},
   "source": [
    "# Support Vector Machine"
   ]
  },
  {
   "cell_type": "code",
   "execution_count": 14,
   "metadata": {},
   "outputs": [],
   "source": [
    "from sklearn.svm import SVC"
   ]
  },
  {
   "cell_type": "code",
   "execution_count": 15,
   "metadata": {},
   "outputs": [],
   "source": [
    "def evaluate_svm(train_x, train_y, test_x, test_y, hyperparameters_dic, results_svm):\n",
    "    \n",
    "    alphas = hyperparameters_dic['alphas']\n",
    "    \n",
    "    i = len(list(results_svm.keys()))\n",
    "    \n",
    "    n_models = len(alphas)\n",
    "    \n",
    "    for alpha in alphas:\n",
    "            \n",
    "        print('Training model {} of {}...'.format(i+1, n_models))\n",
    "\n",
    "        if alpha in [results_svm[i][0] for i in list(results_svm.keys())]:\n",
    "            continue\n",
    "            \n",
    "        results_svm[i] = []\n",
    "\n",
    "        model = SVC(C = alpha)\n",
    "\n",
    "        model.fit(train_x, train_y)\n",
    "\n",
    "        train_accuracy = model.score(train_x, train_y)\n",
    "        test_accuracy = model.score(test_x, test_y)\n",
    "\n",
    "        results_svm[i].append(alpha)\n",
    "        results_svm[i].append(train_accuracy)\n",
    "        results_svm[i].append(test_accuracy)\n",
    "\n",
    "        i += 1\n",
    "            \n",
    "    return results_svm"
   ]
  },
  {
   "cell_type": "code",
   "execution_count": null,
   "metadata": {},
   "outputs": [],
   "source": [
    "alphas = [0.1, 0.01, 0.001, 0.0001]\n",
    "\n",
    "hyperparameters_dic = {'alphas': alphas}\n",
    "\n",
    "results_svm = evaluate_svm(train_x, train_y, test_x, test_y, hyperparameters_dic, {})"
   ]
  },
  {
   "cell_type": "code",
   "execution_count": null,
   "metadata": {},
   "outputs": [],
   "source": [
    "for key in results_svm.keys():\n",
    "    print('Alphas: ' + str(results_svm[key][0]))\n",
    "    print('Training accuracy: ' + str(results_svm[key][1]))\n",
    "    print('Test accuracy: ' + str(results_svm[key][2]))\n",
    "    print()"
   ]
  },
  {
   "cell_type": "code",
   "execution_count": null,
   "metadata": {},
   "outputs": [],
   "source": [
    "save_results(results_svm, 'results_svm')"
   ]
  },
  {
   "cell_type": "code",
   "execution_count": 16,
   "metadata": {},
   "outputs": [
    {
     "name": "stdout",
     "output_type": "stream",
     "text": [
      "Training model 5 of 3...\n",
      "Training model 6 of 3...\n",
      "Training model 7 of 3...\n"
     ]
    }
   ],
   "source": [
    "alphas = [1, 10, 100]\n",
    "\n",
    "hyperparameters_dic = {'alphas': alphas}\n",
    "results_svm = load_results('./results_svm.json')\n",
    "\n",
    "results_svm = evaluate_svm(train_x, train_y, test_x, test_y, hyperparameters_dic, results_svm)"
   ]
  },
  {
   "cell_type": "code",
   "execution_count": 17,
   "metadata": {},
   "outputs": [
    {
     "data": {
      "text/plain": [
       "{'0': [0.1, 0.546945067264574, 0.539050822122571],\n",
       " '1': [0.01, 0.26046337817638265, 0.2619581464872945],\n",
       " '2': [0.001, 0.21814275037369207, 0.21804932735426008],\n",
       " '3': [0.0001, 0.21814275037369207, 0.21804932735426008],\n",
       " 4: [1, 0.7670497010463379, 0.742152466367713],\n",
       " 5: [10, 0.8557548579970105, 0.7750373692077728],\n",
       " 6: [100, 0.8843423019431988, 0.750560538116592]}"
      ]
     },
     "execution_count": 17,
     "metadata": {},
     "output_type": "execute_result"
    }
   ],
   "source": [
    "results_svm"
   ]
  },
  {
   "cell_type": "code",
   "execution_count": 18,
   "metadata": {},
   "outputs": [],
   "source": [
    "save_results(results_svm, 'results_svm')"
   ]
  },
  {
   "cell_type": "code",
   "execution_count": 93,
   "metadata": {},
   "outputs": [],
   "source": [
    "results_svm = load_results('results_svm.json')"
   ]
  },
  {
   "cell_type": "code",
   "execution_count": 96,
   "metadata": {},
   "outputs": [
    {
     "data": {
      "image/png": "[encoded data removed]",
      "text/plain": [
       "<Figure size 432x288 with 1 Axes>"
      ]
     },
     "metadata": {
      "needs_background": "light"
     },
     "output_type": "display_data"
    }
   ],
   "source": [
    "alpha_list = [results_svm[i][0] for i in list(results_svm.keys())]\n",
    "train_acc_list = [results_svm[i][1]*100 for i in list(results_svm.keys())]\n",
    "test_acc_list = [results_svm[i][2]*100 for i in list(results_svm.keys())]\n",
    "\n",
    "alpha_list, train_acc_list, test_acc_list = zip(*sorted(zip(alpha_list, train_acc_list, test_acc_list)))\n",
    "\n",
    "plt.scatter(alpha_list, train_acc_list, label='Training set')\n",
    "plt.scatter(alpha_list, test_acc_list, label='Test set')\n",
    "plt.legend(loc='lower right')\n",
    "plt.xlabel('Inverse Squared L2 Regularization')\n",
    "plt.ylabel('Accuracy (%)')\n",
    "plt.xscale('log')"
   ]
  },
  {
   "cell_type": "code",
   "execution_count": 95,
   "metadata": {},
   "outputs": [
    {
     "name": "stdout",
     "output_type": "stream",
     "text": [
      "Alpha: 10\n",
      "Training accuracy: 85.58%\n",
      "Test accuracy: 77.5%\n"
     ]
    }
   ],
   "source": [
    "max_index = np.argmax(test_acc_list)\n",
    "\n",
    "print('Alpha: ' + str(alpha_list[max_index]))\n",
    "print('Training accuracy: ' + str(round(train_acc_list[max_index], 2)) + '%')\n",
    "print('Test accuracy: ' + str(round(test_acc_list[max_index], 2)) + '%')"
   ]
  },
  {
   "cell_type": "code",
   "execution_count": null,
   "metadata": {},
   "outputs": [],
   "source": []
  }
 ],
 "metadata": {
  "kernelspec": {
   "display_name": "Python 3",
   "language": "python",
   "name": "python3"
  },
  "language_info": {
   "codemirror_mode": {
    "name": "ipython",
    "version": 3
   },
   "file_extension": ".py",
   "mimetype": "text/x-python",
   "name": "python",
   "nbconvert_exporter": "python",
   "pygments_lexer": "ipython3",
   "version": "3.8.5"
  }
 },
 "nbformat": 4,
 "nbformat_minor": 4
}
